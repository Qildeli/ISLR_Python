{
 "cells": [
  {
   "cell_type": "markdown",
   "id": "98656ffd",
   "metadata": {},
   "source": [
    "## Imports"
   ]
  },
  {
   "cell_type": "code",
   "execution_count": 172,
   "id": "e56f1b6a",
   "metadata": {
    "ExecuteTime": {
     "end_time": "2022-04-18T17:22:18.687497Z",
     "start_time": "2022-04-18T17:22:17.296763Z"
    }
   },
   "outputs": [],
   "source": [
    "import itertools\n",
    "\n",
    "import numpy as np\n",
    "import pandas as pd\n",
    "\n",
    "from matplotlib import pyplot as plt\n",
    "import seaborn as sns\n",
    "\n",
    "from sklearn.linear_model import LinearRegression\n"
   ]
  },
  {
   "cell_type": "markdown",
   "id": "00238db2",
   "metadata": {},
   "source": [
    "## Load Data"
   ]
  },
  {
   "cell_type": "code",
   "execution_count": 173,
   "id": "8fd86683",
   "metadata": {
    "ExecuteTime": {
     "end_time": "2022-04-18T17:22:18.718789Z",
     "start_time": "2022-04-18T17:22:18.689020Z"
    }
   },
   "outputs": [
    {
     "data": {
      "text/html": [
       "<div>\n",
       "<style scoped>\n",
       "    .dataframe tbody tr th:only-of-type {\n",
       "        vertical-align: middle;\n",
       "    }\n",
       "\n",
       "    .dataframe tbody tr th {\n",
       "        vertical-align: top;\n",
       "    }\n",
       "\n",
       "    .dataframe thead th {\n",
       "        text-align: right;\n",
       "    }\n",
       "</style>\n",
       "<table border=\"1\" class=\"dataframe\">\n",
       "  <thead>\n",
       "    <tr style=\"text-align: right;\">\n",
       "      <th></th>\n",
       "      <th>Unnamed: 0</th>\n",
       "      <th>AtBat</th>\n",
       "      <th>Hits</th>\n",
       "      <th>HmRun</th>\n",
       "      <th>Runs</th>\n",
       "      <th>RBI</th>\n",
       "      <th>Walks</th>\n",
       "      <th>Years</th>\n",
       "      <th>CAtBat</th>\n",
       "      <th>CHits</th>\n",
       "      <th>...</th>\n",
       "      <th>CRuns</th>\n",
       "      <th>CRBI</th>\n",
       "      <th>CWalks</th>\n",
       "      <th>League</th>\n",
       "      <th>Division</th>\n",
       "      <th>PutOuts</th>\n",
       "      <th>Assists</th>\n",
       "      <th>Errors</th>\n",
       "      <th>Salary</th>\n",
       "      <th>NewLeague</th>\n",
       "    </tr>\n",
       "  </thead>\n",
       "  <tbody>\n",
       "    <tr>\n",
       "      <th>0</th>\n",
       "      <td>-Andy Allanson</td>\n",
       "      <td>293</td>\n",
       "      <td>66</td>\n",
       "      <td>1</td>\n",
       "      <td>30</td>\n",
       "      <td>29</td>\n",
       "      <td>14</td>\n",
       "      <td>1</td>\n",
       "      <td>293</td>\n",
       "      <td>66</td>\n",
       "      <td>...</td>\n",
       "      <td>30</td>\n",
       "      <td>29</td>\n",
       "      <td>14</td>\n",
       "      <td>A</td>\n",
       "      <td>E</td>\n",
       "      <td>446</td>\n",
       "      <td>33</td>\n",
       "      <td>20</td>\n",
       "      <td>NaN</td>\n",
       "      <td>A</td>\n",
       "    </tr>\n",
       "    <tr>\n",
       "      <th>1</th>\n",
       "      <td>-Alan Ashby</td>\n",
       "      <td>315</td>\n",
       "      <td>81</td>\n",
       "      <td>7</td>\n",
       "      <td>24</td>\n",
       "      <td>38</td>\n",
       "      <td>39</td>\n",
       "      <td>14</td>\n",
       "      <td>3449</td>\n",
       "      <td>835</td>\n",
       "      <td>...</td>\n",
       "      <td>321</td>\n",
       "      <td>414</td>\n",
       "      <td>375</td>\n",
       "      <td>N</td>\n",
       "      <td>W</td>\n",
       "      <td>632</td>\n",
       "      <td>43</td>\n",
       "      <td>10</td>\n",
       "      <td>475.0</td>\n",
       "      <td>N</td>\n",
       "    </tr>\n",
       "    <tr>\n",
       "      <th>2</th>\n",
       "      <td>-Alvin Davis</td>\n",
       "      <td>479</td>\n",
       "      <td>130</td>\n",
       "      <td>18</td>\n",
       "      <td>66</td>\n",
       "      <td>72</td>\n",
       "      <td>76</td>\n",
       "      <td>3</td>\n",
       "      <td>1624</td>\n",
       "      <td>457</td>\n",
       "      <td>...</td>\n",
       "      <td>224</td>\n",
       "      <td>266</td>\n",
       "      <td>263</td>\n",
       "      <td>A</td>\n",
       "      <td>W</td>\n",
       "      <td>880</td>\n",
       "      <td>82</td>\n",
       "      <td>14</td>\n",
       "      <td>480.0</td>\n",
       "      <td>A</td>\n",
       "    </tr>\n",
       "    <tr>\n",
       "      <th>3</th>\n",
       "      <td>-Andre Dawson</td>\n",
       "      <td>496</td>\n",
       "      <td>141</td>\n",
       "      <td>20</td>\n",
       "      <td>65</td>\n",
       "      <td>78</td>\n",
       "      <td>37</td>\n",
       "      <td>11</td>\n",
       "      <td>5628</td>\n",
       "      <td>1575</td>\n",
       "      <td>...</td>\n",
       "      <td>828</td>\n",
       "      <td>838</td>\n",
       "      <td>354</td>\n",
       "      <td>N</td>\n",
       "      <td>E</td>\n",
       "      <td>200</td>\n",
       "      <td>11</td>\n",
       "      <td>3</td>\n",
       "      <td>500.0</td>\n",
       "      <td>N</td>\n",
       "    </tr>\n",
       "    <tr>\n",
       "      <th>4</th>\n",
       "      <td>-Andres Galarraga</td>\n",
       "      <td>321</td>\n",
       "      <td>87</td>\n",
       "      <td>10</td>\n",
       "      <td>39</td>\n",
       "      <td>42</td>\n",
       "      <td>30</td>\n",
       "      <td>2</td>\n",
       "      <td>396</td>\n",
       "      <td>101</td>\n",
       "      <td>...</td>\n",
       "      <td>48</td>\n",
       "      <td>46</td>\n",
       "      <td>33</td>\n",
       "      <td>N</td>\n",
       "      <td>E</td>\n",
       "      <td>805</td>\n",
       "      <td>40</td>\n",
       "      <td>4</td>\n",
       "      <td>91.5</td>\n",
       "      <td>N</td>\n",
       "    </tr>\n",
       "  </tbody>\n",
       "</table>\n",
       "<p>5 rows × 21 columns</p>\n",
       "</div>"
      ],
      "text/plain": [
       "          Unnamed: 0  AtBat  Hits  HmRun  Runs  RBI  Walks  Years  CAtBat  \\\n",
       "0     -Andy Allanson    293    66      1    30   29     14      1     293   \n",
       "1        -Alan Ashby    315    81      7    24   38     39     14    3449   \n",
       "2       -Alvin Davis    479   130     18    66   72     76      3    1624   \n",
       "3      -Andre Dawson    496   141     20    65   78     37     11    5628   \n",
       "4  -Andres Galarraga    321    87     10    39   42     30      2     396   \n",
       "\n",
       "   CHits  ...  CRuns  CRBI  CWalks  League Division PutOuts  Assists  Errors  \\\n",
       "0     66  ...     30    29      14       A        E     446       33      20   \n",
       "1    835  ...    321   414     375       N        W     632       43      10   \n",
       "2    457  ...    224   266     263       A        W     880       82      14   \n",
       "3   1575  ...    828   838     354       N        E     200       11       3   \n",
       "4    101  ...     48    46      33       N        E     805       40       4   \n",
       "\n",
       "   Salary  NewLeague  \n",
       "0     NaN          A  \n",
       "1   475.0          N  \n",
       "2   480.0          A  \n",
       "3   500.0          N  \n",
       "4    91.5          N  \n",
       "\n",
       "[5 rows x 21 columns]"
      ]
     },
     "execution_count": 173,
     "metadata": {},
     "output_type": "execute_result"
    }
   ],
   "source": [
    "hitters_df = pd.read_csv('https://raw.githubusercontent.com/JWarmenhoven/ISLR-python/master/Notebooks/Data/Hitters.csv')\n",
    "hitters_df.head()"
   ]
  },
  {
   "cell_type": "code",
   "execution_count": 174,
   "id": "0651ce2b",
   "metadata": {
    "ExecuteTime": {
     "end_time": "2022-04-18T17:22:18.734052Z",
     "start_time": "2022-04-18T17:22:18.719972Z"
    }
   },
   "outputs": [
    {
     "name": "stdout",
     "output_type": "stream",
     "text": [
      "<class 'pandas.core.frame.DataFrame'>\n",
      "RangeIndex: 322 entries, 0 to 321\n",
      "Data columns (total 21 columns):\n",
      " #   Column      Non-Null Count  Dtype  \n",
      "---  ------      --------------  -----  \n",
      " 0   Unnamed: 0  322 non-null    object \n",
      " 1   AtBat       322 non-null    int64  \n",
      " 2   Hits        322 non-null    int64  \n",
      " 3   HmRun       322 non-null    int64  \n",
      " 4   Runs        322 non-null    int64  \n",
      " 5   RBI         322 non-null    int64  \n",
      " 6   Walks       322 non-null    int64  \n",
      " 7   Years       322 non-null    int64  \n",
      " 8   CAtBat      322 non-null    int64  \n",
      " 9   CHits       322 non-null    int64  \n",
      " 10  CHmRun      322 non-null    int64  \n",
      " 11  CRuns       322 non-null    int64  \n",
      " 12  CRBI        322 non-null    int64  \n",
      " 13  CWalks      322 non-null    int64  \n",
      " 14  League      322 non-null    object \n",
      " 15  Division    322 non-null    object \n",
      " 16  PutOuts     322 non-null    int64  \n",
      " 17  Assists     322 non-null    int64  \n",
      " 18  Errors      322 non-null    int64  \n",
      " 19  Salary      263 non-null    float64\n",
      " 20  NewLeague   322 non-null    object \n",
      "dtypes: float64(1), int64(16), object(4)\n",
      "memory usage: 53.0+ KB\n"
     ]
    }
   ],
   "source": [
    "hitters_df.info()"
   ]
  },
  {
   "cell_type": "code",
   "execution_count": 175,
   "id": "14a85501",
   "metadata": {
    "ExecuteTime": {
     "end_time": "2022-04-18T17:22:18.749307Z",
     "start_time": "2022-04-18T17:22:18.735179Z"
    }
   },
   "outputs": [
    {
     "data": {
      "text/plain": [
       "Unnamed: 0     0\n",
       "AtBat          0\n",
       "Hits           0\n",
       "HmRun          0\n",
       "Runs           0\n",
       "RBI            0\n",
       "Walks          0\n",
       "Years          0\n",
       "CAtBat         0\n",
       "CHits          0\n",
       "CHmRun         0\n",
       "CRuns          0\n",
       "CRBI           0\n",
       "CWalks         0\n",
       "League         0\n",
       "Division       0\n",
       "PutOuts        0\n",
       "Assists        0\n",
       "Errors         0\n",
       "Salary        59\n",
       "NewLeague      0\n",
       "dtype: int64"
      ]
     },
     "execution_count": 175,
     "metadata": {},
     "output_type": "execute_result"
    }
   ],
   "source": [
    "hitters_df.isna().sum()"
   ]
  },
  {
   "cell_type": "code",
   "execution_count": 176,
   "id": "9efa6765",
   "metadata": {
    "ExecuteTime": {
     "end_time": "2022-04-18T17:22:18.765105Z",
     "start_time": "2022-04-18T17:22:18.751412Z"
    }
   },
   "outputs": [],
   "source": [
    "hitters_df = hitters_df.dropna()"
   ]
  },
  {
   "cell_type": "code",
   "execution_count": 177,
   "id": "fd73b2fa",
   "metadata": {
    "ExecuteTime": {
     "end_time": "2022-04-18T17:22:18.781117Z",
     "start_time": "2022-04-18T17:22:18.766846Z"
    }
   },
   "outputs": [
    {
     "data": {
      "text/plain": [
       "['AtBat',\n",
       " 'Hits',\n",
       " 'HmRun',\n",
       " 'Runs',\n",
       " 'RBI',\n",
       " 'Walks',\n",
       " 'Years',\n",
       " 'CAtBat',\n",
       " 'CHits',\n",
       " 'CHmRun',\n",
       " 'CRuns',\n",
       " 'CRBI',\n",
       " 'CWalks',\n",
       " 'PutOuts',\n",
       " 'Assists',\n",
       " 'Errors',\n",
       " 'Salary']"
      ]
     },
     "execution_count": 177,
     "metadata": {},
     "output_type": "execute_result"
    }
   ],
   "source": [
    "quantitative_cols = hitters_df.select_dtypes(include=['number']).dtypes.index.tolist()\n",
    "quantitative_cols"
   ]
  },
  {
   "cell_type": "code",
   "execution_count": 178,
   "id": "56142868",
   "metadata": {
    "ExecuteTime": {
     "end_time": "2022-04-18T17:22:18.797359Z",
     "start_time": "2022-04-18T17:22:18.782118Z"
    }
   },
   "outputs": [
    {
     "data": {
      "text/plain": [
       "['Unnamed: 0', 'League', 'Division', 'NewLeague']"
      ]
     },
     "execution_count": 178,
     "metadata": {},
     "output_type": "execute_result"
    }
   ],
   "source": [
    "qualitative_cols = hitters_df.select_dtypes(include=['category', 'object']).dtypes.index.tolist()\n",
    "qualitative_cols"
   ]
  },
  {
   "cell_type": "markdown",
   "id": "0f37e4b4",
   "metadata": {},
   "source": [
    "## Forward Selection"
   ]
  },
  {
   "cell_type": "code",
   "execution_count": 179,
   "id": "92cfaa9f",
   "metadata": {},
   "outputs": [],
   "source": [
    "response = 'Salary'\n",
    "predictors = list(set(quantitative_cols) - set([response]))"
   ]
  },
  {
   "cell_type": "code",
   "execution_count": 180,
   "id": "a39e5c6f",
   "metadata": {
    "ExecuteTime": {
     "end_time": "2022-04-18T17:26:28.818725Z",
     "start_time": "2022-04-18T17:26:28.138851Z"
    }
   },
   "outputs": [
    {
     "name": "stdout",
     "output_type": "stream",
     "text": [
      "['CRBI']\n",
      "['CRBI', 'Hits']\n",
      "['CRBI', 'Hits', 'PutOuts']\n",
      "['CRBI', 'Hits', 'PutOuts', 'AtBat']\n",
      "['CRBI', 'Hits', 'PutOuts', 'AtBat', 'Walks']\n",
      "['CRBI', 'Hits', 'PutOuts', 'AtBat', 'Walks', 'CWalks']\n",
      "['CRBI', 'Hits', 'PutOuts', 'AtBat', 'Walks', 'CWalks', 'CRuns']\n",
      "['CRBI', 'Hits', 'PutOuts', 'AtBat', 'Walks', 'CWalks', 'CRuns', 'CAtBat']\n",
      "['CRBI', 'Hits', 'PutOuts', 'AtBat', 'Walks', 'CWalks', 'CRuns', 'CAtBat', 'Assists']\n",
      "['CRBI', 'Hits', 'PutOuts', 'AtBat', 'Walks', 'CWalks', 'CRuns', 'CAtBat', 'Assists', 'Runs']\n",
      "['CRBI', 'Hits', 'PutOuts', 'AtBat', 'Walks', 'CWalks', 'CRuns', 'CAtBat', 'Assists', 'Runs', 'Errors']\n",
      "['CRBI', 'Hits', 'PutOuts', 'AtBat', 'Walks', 'CWalks', 'CRuns', 'CAtBat', 'Assists', 'Runs', 'Errors', 'HmRun']\n",
      "['CRBI', 'Hits', 'PutOuts', 'AtBat', 'Walks', 'CWalks', 'CRuns', 'CAtBat', 'Assists', 'Runs', 'Errors', 'HmRun', 'CHits']\n",
      "['CRBI', 'Hits', 'PutOuts', 'AtBat', 'Walks', 'CWalks', 'CRuns', 'CAtBat', 'Assists', 'Runs', 'Errors', 'HmRun', 'CHits', 'Years']\n",
      "['CRBI', 'Hits', 'PutOuts', 'AtBat', 'Walks', 'CWalks', 'CRuns', 'CAtBat', 'Assists', 'Runs', 'Errors', 'HmRun', 'CHits', 'Years', 'CHmRun']\n",
      "['CRBI', 'Hits', 'PutOuts', 'AtBat', 'Walks', 'CWalks', 'CRuns', 'CAtBat', 'Assists', 'Runs', 'Errors', 'HmRun', 'CHits', 'Years', 'CHmRun', 'RBI']\n"
     ]
    }
   ],
   "source": [
    "unused_features = predictors[:]\n",
    "used_features = []\n",
    "errors = []\n",
    "model_stats = []\n",
    "\n",
    "while unused_features:\n",
    "    current_models = []\n",
    "    for feature in unused_features:\n",
    "        current_features = used_features + [feature]\n",
    "        X, y = hitters_df[current_features], hitters_df[response]\n",
    "        model = LinearRegression()\n",
    "        model.fit(X, y)\n",
    "        y_hat = model.predict(X)\n",
    "        # number of rows\n",
    "        n = X.shape[0]\n",
    "        # number of columns\n",
    "        k = len(model.coef_)\n",
    "        # degrees of freedom\n",
    "        dof = n - (k + 1)\n",
    "        # rss\n",
    "        rss = np.power(y - y_hat, 2).sum()\n",
    "        # tss\n",
    "        tss = np.power(y - y.mean(), 2).sum()\n",
    "        # adjusterd R^2\n",
    "        adj_r_2 = 1 - (rss/tss)*(n-1)/dof\n",
    "        current_models.append((feature, adj_r_2))\n",
    "    \n",
    "    current_models = sorted(current_models, reverse=True, key=lambda tup: tup[1])\n",
    "    best_model = current_models[0][0]\n",
    "    best_error = current_models[0][1]\n",
    "#     print(best_model)\n",
    "#     break\n",
    "    unused_features.remove(best_model)\n",
    "    used_features.append(best_model)\n",
    "    errors.append(best_error)\n",
    "#     print(f'unused: {unused_features}, used: {used_features}')\n",
    "    model_stats.append((len(used_features), used_features[:], best_error))\n",
    "    print(used_features)\n",
    "        \n",
    "        \n"
   ]
  },
  {
   "cell_type": "code",
   "execution_count": 181,
   "id": "a4a16f17",
   "metadata": {
    "ExecuteTime": {
     "end_time": "2022-04-18T17:26:28.849796Z",
     "start_time": "2022-04-18T17:26:28.819848Z"
    }
   },
   "outputs": [
    {
     "data": {
      "text/html": [
       "<div>\n",
       "<style scoped>\n",
       "    .dataframe tbody tr th:only-of-type {\n",
       "        vertical-align: middle;\n",
       "    }\n",
       "\n",
       "    .dataframe tbody tr th {\n",
       "        vertical-align: top;\n",
       "    }\n",
       "\n",
       "    .dataframe thead th {\n",
       "        text-align: right;\n",
       "    }\n",
       "</style>\n",
       "<table border=\"1\" class=\"dataframe\">\n",
       "  <thead>\n",
       "    <tr style=\"text-align: right;\">\n",
       "      <th></th>\n",
       "      <th>cnt</th>\n",
       "      <th>columns</th>\n",
       "      <th>adj_r_2</th>\n",
       "    </tr>\n",
       "  </thead>\n",
       "  <tbody>\n",
       "    <tr>\n",
       "      <th>0</th>\n",
       "      <td>1</td>\n",
       "      <td>[CRBI]</td>\n",
       "      <td>0.318850</td>\n",
       "    </tr>\n",
       "    <tr>\n",
       "      <th>1</th>\n",
       "      <td>2</td>\n",
       "      <td>[CRBI, Hits]</td>\n",
       "      <td>0.420802</td>\n",
       "    </tr>\n",
       "    <tr>\n",
       "      <th>2</th>\n",
       "      <td>3</td>\n",
       "      <td>[CRBI, Hits, PutOuts]</td>\n",
       "      <td>0.445075</td>\n",
       "    </tr>\n",
       "    <tr>\n",
       "      <th>3</th>\n",
       "      <td>4</td>\n",
       "      <td>[CRBI, Hits, PutOuts, AtBat]</td>\n",
       "      <td>0.462159</td>\n",
       "    </tr>\n",
       "    <tr>\n",
       "      <th>4</th>\n",
       "      <td>5</td>\n",
       "      <td>[CRBI, Hits, PutOuts, AtBat, Walks]</td>\n",
       "      <td>0.480505</td>\n",
       "    </tr>\n",
       "    <tr>\n",
       "      <th>5</th>\n",
       "      <td>6</td>\n",
       "      <td>[CRBI, Hits, PutOuts, AtBat, Walks, CWalks]</td>\n",
       "      <td>0.481896</td>\n",
       "    </tr>\n",
       "    <tr>\n",
       "      <th>6</th>\n",
       "      <td>7</td>\n",
       "      <td>[CRBI, Hits, PutOuts, AtBat, Walks, CWalks, CR...</td>\n",
       "      <td>0.496239</td>\n",
       "    </tr>\n",
       "    <tr>\n",
       "      <th>7</th>\n",
       "      <td>8</td>\n",
       "      <td>[CRBI, Hits, PutOuts, AtBat, Walks, CWalks, CR...</td>\n",
       "      <td>0.503651</td>\n",
       "    </tr>\n",
       "    <tr>\n",
       "      <th>8</th>\n",
       "      <td>9</td>\n",
       "      <td>[CRBI, Hits, PutOuts, AtBat, Walks, CWalks, CR...</td>\n",
       "      <td>0.508641</td>\n",
       "    </tr>\n",
       "    <tr>\n",
       "      <th>9</th>\n",
       "      <td>10</td>\n",
       "      <td>[CRBI, Hits, PutOuts, AtBat, Walks, CWalks, CR...</td>\n",
       "      <td>0.507753</td>\n",
       "    </tr>\n",
       "    <tr>\n",
       "      <th>10</th>\n",
       "      <td>11</td>\n",
       "      <td>[CRBI, Hits, PutOuts, AtBat, Walks, CWalks, CR...</td>\n",
       "      <td>0.506449</td>\n",
       "    </tr>\n",
       "    <tr>\n",
       "      <th>11</th>\n",
       "      <td>12</td>\n",
       "      <td>[CRBI, Hits, PutOuts, AtBat, Walks, CWalks, CR...</td>\n",
       "      <td>0.504940</td>\n",
       "    </tr>\n",
       "    <tr>\n",
       "      <th>12</th>\n",
       "      <td>13</td>\n",
       "      <td>[CRBI, Hits, PutOuts, AtBat, Walks, CWalks, CR...</td>\n",
       "      <td>0.503160</td>\n",
       "    </tr>\n",
       "    <tr>\n",
       "      <th>13</th>\n",
       "      <td>14</td>\n",
       "      <td>[CRBI, Hits, PutOuts, AtBat, Walks, CWalks, CR...</td>\n",
       "      <td>0.501238</td>\n",
       "    </tr>\n",
       "    <tr>\n",
       "      <th>14</th>\n",
       "      <td>15</td>\n",
       "      <td>[CRBI, Hits, PutOuts, AtBat, Walks, CWalks, CR...</td>\n",
       "      <td>0.499263</td>\n",
       "    </tr>\n",
       "    <tr>\n",
       "      <th>15</th>\n",
       "      <td>16</td>\n",
       "      <td>[CRBI, Hits, PutOuts, AtBat, Walks, CWalks, CR...</td>\n",
       "      <td>0.497227</td>\n",
       "    </tr>\n",
       "  </tbody>\n",
       "</table>\n",
       "</div>"
      ],
      "text/plain": [
       "    cnt                                            columns   adj_r_2\n",
       "0     1                                             [CRBI]  0.318850\n",
       "1     2                                       [CRBI, Hits]  0.420802\n",
       "2     3                              [CRBI, Hits, PutOuts]  0.445075\n",
       "3     4                       [CRBI, Hits, PutOuts, AtBat]  0.462159\n",
       "4     5                [CRBI, Hits, PutOuts, AtBat, Walks]  0.480505\n",
       "5     6        [CRBI, Hits, PutOuts, AtBat, Walks, CWalks]  0.481896\n",
       "6     7  [CRBI, Hits, PutOuts, AtBat, Walks, CWalks, CR...  0.496239\n",
       "7     8  [CRBI, Hits, PutOuts, AtBat, Walks, CWalks, CR...  0.503651\n",
       "8     9  [CRBI, Hits, PutOuts, AtBat, Walks, CWalks, CR...  0.508641\n",
       "9    10  [CRBI, Hits, PutOuts, AtBat, Walks, CWalks, CR...  0.507753\n",
       "10   11  [CRBI, Hits, PutOuts, AtBat, Walks, CWalks, CR...  0.506449\n",
       "11   12  [CRBI, Hits, PutOuts, AtBat, Walks, CWalks, CR...  0.504940\n",
       "12   13  [CRBI, Hits, PutOuts, AtBat, Walks, CWalks, CR...  0.503160\n",
       "13   14  [CRBI, Hits, PutOuts, AtBat, Walks, CWalks, CR...  0.501238\n",
       "14   15  [CRBI, Hits, PutOuts, AtBat, Walks, CWalks, CR...  0.499263\n",
       "15   16  [CRBI, Hits, PutOuts, AtBat, Walks, CWalks, CR...  0.497227"
      ]
     },
     "execution_count": 181,
     "metadata": {},
     "output_type": "execute_result"
    }
   ],
   "source": [
    "stats_df = pd.DataFrame(model_stats, columns=['cnt', 'columns', 'adj_r_2'])\n",
    "stats_df"
   ]
  },
  {
   "cell_type": "code",
   "execution_count": 182,
   "id": "4ee386f2",
   "metadata": {
    "ExecuteTime": {
     "end_time": "2022-04-18T17:26:28.864737Z",
     "start_time": "2022-04-18T17:26:28.852921Z"
    }
   },
   "outputs": [
    {
     "data": {
      "text/plain": [
       "8"
      ]
     },
     "execution_count": 182,
     "metadata": {},
     "output_type": "execute_result"
    }
   ],
   "source": [
    "best_idx = stats_df['adj_r_2'].idxmax()\n",
    "best_idx"
   ]
  },
  {
   "cell_type": "code",
   "execution_count": 183,
   "id": "37d298cc",
   "metadata": {
    "ExecuteTime": {
     "end_time": "2022-04-18T17:26:28.880175Z",
     "start_time": "2022-04-18T17:26:28.866759Z"
    }
   },
   "outputs": [
    {
     "data": {
      "text/plain": [
       "(9, 0.5086408324706606)"
      ]
     },
     "execution_count": 183,
     "metadata": {},
     "output_type": "execute_result"
    }
   ],
   "source": [
    "stats_df.loc[best_idx, 'cnt'], stats_df.loc[best_idx, 'adj_r_2']"
   ]
  },
  {
   "cell_type": "code",
   "execution_count": 184,
   "id": "3404ce49",
   "metadata": {
    "ExecuteTime": {
     "end_time": "2022-04-18T17:26:29.718481Z",
     "start_time": "2022-04-18T17:26:28.882803Z"
    }
   },
   "outputs": [
    {
     "data": {
      "image/png": "[encoded data removed]",
      "text/plain": [
       "<Figure size 432x288 with 1 Axes>"
      ]
     },
     "metadata": {
      "needs_background": "light"
     },
     "output_type": "display_data"
    }
   ],
   "source": [
    "plt.plot(stats_df['cnt'], stats_df['adj_r_2'])\n",
    "plt.scatter(x=stats_df.loc[best_idx, 'cnt'], y=stats_df.loc[best_idx, 'adj_r_2'], c='r')\n",
    "plt.show()"
   ]
  },
  {
   "cell_type": "markdown",
   "id": "e0625651",
   "metadata": {},
   "source": [
    "## Backward Selection"
   ]
  },
  {
   "cell_type": "code",
   "execution_count": 235,
   "id": "a37e8210",
   "metadata": {},
   "outputs": [
    {
     "name": "stderr",
     "output_type": "stream",
     "text": [
      "[Parallel(n_jobs=1)]: Using backend SequentialBackend with 1 concurrent workers.\n",
      "[Parallel(n_jobs=1)]: Done   1 out of   1 | elapsed:    0.0s remaining:    0.0s\n",
      "[Parallel(n_jobs=1)]: Done  16 out of  16 | elapsed:    0.2s finished\n",
      "\n",
      "[2022-04-28 20:37:12] Features: 15/1 -- score: 0.3989408593555345[Parallel(n_jobs=1)]: Using backend SequentialBackend with 1 concurrent workers.\n",
      "[Parallel(n_jobs=1)]: Done   1 out of   1 | elapsed:    0.0s remaining:    0.0s\n",
      "[Parallel(n_jobs=1)]: Done  15 out of  15 | elapsed:    0.1s finished\n",
      "\n",
      "[2022-04-28 20:37:12] Features: 14/1 -- score: 0.4070500135253156[Parallel(n_jobs=1)]: Using backend SequentialBackend with 1 concurrent workers.\n",
      "[Parallel(n_jobs=1)]: Done   1 out of   1 | elapsed:    0.0s remaining:    0.0s\n",
      "[Parallel(n_jobs=1)]: Done  14 out of  14 | elapsed:    0.1s finished\n",
      "\n",
      "[2022-04-28 20:37:13] Features: 13/1 -- score: 0.41510710151652147[Parallel(n_jobs=1)]: Using backend SequentialBackend with 1 concurrent workers.\n",
      "[Parallel(n_jobs=1)]: Done   1 out of   1 | elapsed:    0.0s remaining:    0.0s\n",
      "[Parallel(n_jobs=1)]: Done  13 out of  13 | elapsed:    0.1s finished\n",
      "\n",
      "[2022-04-28 20:37:13] Features: 12/1 -- score: 0.4213238771314473[Parallel(n_jobs=1)]: Using backend SequentialBackend with 1 concurrent workers.\n",
      "[Parallel(n_jobs=1)]: Done   1 out of   1 | elapsed:    0.0s remaining:    0.0s\n",
      "[Parallel(n_jobs=1)]: Done  12 out of  12 | elapsed:    0.1s finished\n",
      "\n",
      "[2022-04-28 20:37:13] Features: 11/1 -- score: 0.4264909169952233[Parallel(n_jobs=1)]: Using backend SequentialBackend with 1 concurrent workers.\n",
      "[Parallel(n_jobs=1)]: Done   1 out of   1 | elapsed:    0.0s remaining:    0.0s\n",
      "[Parallel(n_jobs=1)]: Done  11 out of  11 | elapsed:    0.1s finished\n",
      "\n",
      "[2022-04-28 20:37:13] Features: 10/1 -- score: 0.4264642121966064[Parallel(n_jobs=1)]: Using backend SequentialBackend with 1 concurrent workers.\n",
      "[Parallel(n_jobs=1)]: Done   1 out of   1 | elapsed:    0.0s remaining:    0.0s\n",
      "[Parallel(n_jobs=1)]: Done  10 out of  10 | elapsed:    0.1s finished\n",
      "\n",
      "[2022-04-28 20:37:13] Features: 9/1 -- score: 0.4259116164548047[Parallel(n_jobs=1)]: Using backend SequentialBackend with 1 concurrent workers.\n",
      "[Parallel(n_jobs=1)]: Done   1 out of   1 | elapsed:    0.0s remaining:    0.0s\n",
      "[Parallel(n_jobs=1)]: Done   9 out of   9 | elapsed:    0.1s finished\n",
      "\n",
      "[2022-04-28 20:37:13] Features: 8/1 -- score: 0.42894287536734454[Parallel(n_jobs=1)]: Using backend SequentialBackend with 1 concurrent workers.\n",
      "[Parallel(n_jobs=1)]: Done   1 out of   1 | elapsed:    0.0s remaining:    0.0s\n",
      "[Parallel(n_jobs=1)]: Done   8 out of   8 | elapsed:    0.1s finished\n",
      "\n",
      "[2022-04-28 20:37:13] Features: 7/1 -- score: 0.43255234841081575[Parallel(n_jobs=1)]: Using backend SequentialBackend with 1 concurrent workers.\n",
      "[Parallel(n_jobs=1)]: Done   1 out of   1 | elapsed:    0.0s remaining:    0.0s\n",
      "[Parallel(n_jobs=1)]: Done   7 out of   7 | elapsed:    0.0s finished\n",
      "\n",
      "[2022-04-28 20:37:13] Features: 6/1 -- score: 0.42839891269347574[Parallel(n_jobs=1)]: Using backend SequentialBackend with 1 concurrent workers.\n",
      "[Parallel(n_jobs=1)]: Done   1 out of   1 | elapsed:    0.0s remaining:    0.0s\n",
      "[Parallel(n_jobs=1)]: Done   6 out of   6 | elapsed:    0.0s finished\n",
      "\n",
      "[2022-04-28 20:37:13] Features: 5/1 -- score: 0.4286673216280488[Parallel(n_jobs=1)]: Using backend SequentialBackend with 1 concurrent workers.\n",
      "[Parallel(n_jobs=1)]: Done   1 out of   1 | elapsed:    0.0s remaining:    0.0s\n",
      "[Parallel(n_jobs=1)]: Done   5 out of   5 | elapsed:    0.0s finished\n",
      "\n",
      "[2022-04-28 20:37:13] Features: 4/1 -- score: 0.4130379732250186[Parallel(n_jobs=1)]: Using backend SequentialBackend with 1 concurrent workers.\n",
      "[Parallel(n_jobs=1)]: Done   1 out of   1 | elapsed:    0.0s remaining:    0.0s\n",
      "[Parallel(n_jobs=1)]: Done   4 out of   4 | elapsed:    0.0s finished\n",
      "\n",
      "[2022-04-28 20:37:13] Features: 3/1 -- score: 0.39747842537784833[Parallel(n_jobs=1)]: Using backend SequentialBackend with 1 concurrent workers.\n",
      "[Parallel(n_jobs=1)]: Done   1 out of   1 | elapsed:    0.0s remaining:    0.0s\n",
      "[Parallel(n_jobs=1)]: Done   3 out of   3 | elapsed:    0.0s finished\n",
      "\n",
      "[2022-04-28 20:37:13] Features: 2/1 -- score: 0.3801878512764718[Parallel(n_jobs=1)]: Using backend SequentialBackend with 1 concurrent workers.\n",
      "[Parallel(n_jobs=1)]: Done   1 out of   1 | elapsed:    0.0s remaining:    0.0s\n",
      "[Parallel(n_jobs=1)]: Done   2 out of   2 | elapsed:    0.0s finished\n",
      "\n",
      "[2022-04-28 20:37:13] Features: 1/1 -- score: 0.28981755426924316"
     ]
    }
   ],
   "source": [
    "from mlxtend.feature_selection import SequentialFeatureSelector as sfs\n",
    "\n",
    "\n",
    "lr = LinearRegression()\n",
    "\n",
    "X, y = hitters_df[predictors], hitters_df[response]\n",
    "\n",
    "\n",
    "sfs1 = sfs(lr, \n",
    "           k_features=1, \n",
    "           forward=False, \n",
    "           floating=False, \n",
    "           verbose=2,\n",
    "           scoring='r2',\n",
    "           cv=3)\n",
    "\n",
    "sfs1 = sfs1.fit(X, y)"
   ]
  },
  {
   "cell_type": "code",
   "execution_count": 236,
   "id": "0b270aeb",
   "metadata": {},
   "outputs": [
    {
     "data": {
      "text/plain": [
       "{16: {'feature_idx': (0, 1, 2, 3, 4, 5, 6, 7, 8, 9, 10, 11, 12, 13, 14, 15),\n",
       "  'cv_scores': array([0.56983207, 0.4385275 , 0.16191337]),\n",
       "  'avg_score': 0.390090977801045,\n",
       "  'feature_names': ('RBI',\n",
       "   'Hits',\n",
       "   'CWalks',\n",
       "   'AtBat',\n",
       "   'Errors',\n",
       "   'Walks',\n",
       "   'CHits',\n",
       "   'CRuns',\n",
       "   'Assists',\n",
       "   'CRBI',\n",
       "   'Years',\n",
       "   'CHmRun',\n",
       "   'HmRun',\n",
       "   'CAtBat',\n",
       "   'PutOuts',\n",
       "   'Runs')},\n",
       " 15: {'feature_idx': (0, 1, 2, 3, 4, 5, 6, 7, 8, 9, 11, 12, 13, 14, 15),\n",
       "  'cv_scores': array([0.5807737 , 0.44007555, 0.17597332]),\n",
       "  'avg_score': 0.3989408593555345,\n",
       "  'feature_names': ('RBI',\n",
       "   'Hits',\n",
       "   'CWalks',\n",
       "   'AtBat',\n",
       "   'Errors',\n",
       "   'Walks',\n",
       "   'CHits',\n",
       "   'CRuns',\n",
       "   'Assists',\n",
       "   'CRBI',\n",
       "   'CHmRun',\n",
       "   'HmRun',\n",
       "   'CAtBat',\n",
       "   'PutOuts',\n",
       "   'Runs')},\n",
       " 14: {'feature_idx': (0, 1, 2, 3, 4, 5, 6, 7, 8, 9, 12, 13, 14, 15),\n",
       "  'cv_scores': array([0.58399853, 0.43958722, 0.19756429]),\n",
       "  'avg_score': 0.4070500135253156,\n",
       "  'feature_names': ('RBI',\n",
       "   'Hits',\n",
       "   'CWalks',\n",
       "   'AtBat',\n",
       "   'Errors',\n",
       "   'Walks',\n",
       "   'CHits',\n",
       "   'CRuns',\n",
       "   'Assists',\n",
       "   'CRBI',\n",
       "   'HmRun',\n",
       "   'CAtBat',\n",
       "   'PutOuts',\n",
       "   'Runs')},\n",
       " 13: {'feature_idx': (1, 2, 3, 4, 5, 6, 7, 8, 9, 12, 13, 14, 15),\n",
       "  'cv_scores': array([0.58426562, 0.44885401, 0.21220167]),\n",
       "  'avg_score': 0.41510710151652147,\n",
       "  'feature_names': ('Hits',\n",
       "   'CWalks',\n",
       "   'AtBat',\n",
       "   'Errors',\n",
       "   'Walks',\n",
       "   'CHits',\n",
       "   'CRuns',\n",
       "   'Assists',\n",
       "   'CRBI',\n",
       "   'HmRun',\n",
       "   'CAtBat',\n",
       "   'PutOuts',\n",
       "   'Runs')},\n",
       " 12: {'feature_idx': (1, 2, 3, 4, 5, 6, 7, 8, 9, 12, 13, 14),\n",
       "  'cv_scores': array([0.59664337, 0.45926446, 0.20806381]),\n",
       "  'avg_score': 0.4213238771314473,\n",
       "  'feature_names': ('Hits',\n",
       "   'CWalks',\n",
       "   'AtBat',\n",
       "   'Errors',\n",
       "   'Walks',\n",
       "   'CHits',\n",
       "   'CRuns',\n",
       "   'Assists',\n",
       "   'CRBI',\n",
       "   'HmRun',\n",
       "   'CAtBat',\n",
       "   'PutOuts')},\n",
       " 11: {'feature_idx': (1, 2, 3, 4, 5, 6, 7, 8, 9, 13, 14),\n",
       "  'cv_scores': array([0.60346403, 0.45912425, 0.21688447]),\n",
       "  'avg_score': 0.4264909169952233,\n",
       "  'feature_names': ('Hits',\n",
       "   'CWalks',\n",
       "   'AtBat',\n",
       "   'Errors',\n",
       "   'Walks',\n",
       "   'CHits',\n",
       "   'CRuns',\n",
       "   'Assists',\n",
       "   'CRBI',\n",
       "   'CAtBat',\n",
       "   'PutOuts')},\n",
       " 10: {'feature_idx': (1, 2, 3, 5, 6, 7, 8, 9, 13, 14),\n",
       "  'cv_scores': array([0.6025803 , 0.45820767, 0.21860467]),\n",
       "  'avg_score': 0.4264642121966064,\n",
       "  'feature_names': ('Hits',\n",
       "   'CWalks',\n",
       "   'AtBat',\n",
       "   'Walks',\n",
       "   'CHits',\n",
       "   'CRuns',\n",
       "   'Assists',\n",
       "   'CRBI',\n",
       "   'CAtBat',\n",
       "   'PutOuts')},\n",
       " 9: {'feature_idx': (1, 2, 3, 5, 7, 8, 9, 13, 14),\n",
       "  'cv_scores': array([0.60255082, 0.45864623, 0.2165378 ]),\n",
       "  'avg_score': 0.4259116164548047,\n",
       "  'feature_names': ('Hits',\n",
       "   'CWalks',\n",
       "   'AtBat',\n",
       "   'Walks',\n",
       "   'CRuns',\n",
       "   'Assists',\n",
       "   'CRBI',\n",
       "   'CAtBat',\n",
       "   'PutOuts')},\n",
       " 8: {'feature_idx': (1, 2, 3, 5, 7, 8, 9, 14),\n",
       "  'cv_scores': array([0.5850893 , 0.4350974 , 0.26664192]),\n",
       "  'avg_score': 0.42894287536734454,\n",
       "  'feature_names': ('Hits',\n",
       "   'CWalks',\n",
       "   'AtBat',\n",
       "   'Walks',\n",
       "   'CRuns',\n",
       "   'Assists',\n",
       "   'CRBI',\n",
       "   'PutOuts')},\n",
       " 7: {'feature_idx': (1, 2, 3, 5, 7, 9, 14),\n",
       "  'cv_scores': array([0.59272246, 0.43283749, 0.2720971 ]),\n",
       "  'avg_score': 0.43255234841081575,\n",
       "  'feature_names': ('Hits',\n",
       "   'CWalks',\n",
       "   'AtBat',\n",
       "   'Walks',\n",
       "   'CRuns',\n",
       "   'CRBI',\n",
       "   'PutOuts')},\n",
       " 6: {'feature_idx': (1, 2, 3, 5, 7, 14),\n",
       "  'cv_scores': array([0.57183934, 0.41687418, 0.29648322]),\n",
       "  'avg_score': 0.42839891269347574,\n",
       "  'feature_names': ('Hits', 'CWalks', 'AtBat', 'Walks', 'CRuns', 'PutOuts')},\n",
       " 5: {'feature_idx': (1, 2, 3, 5, 7),\n",
       "  'cv_scores': array([0.54483482, 0.36282403, 0.37834312]),\n",
       "  'avg_score': 0.4286673216280488,\n",
       "  'feature_names': ('Hits', 'CWalks', 'AtBat', 'Walks', 'CRuns')},\n",
       " 4: {'feature_idx': (1, 3, 5, 7),\n",
       "  'cv_scores': array([0.53824685, 0.34623786, 0.35462921]),\n",
       "  'avg_score': 0.4130379732250186,\n",
       "  'feature_names': ('Hits', 'AtBat', 'Walks', 'CRuns')},\n",
       " 3: {'feature_idx': (1, 5, 7),\n",
       "  'cv_scores': array([0.52091276, 0.31201805, 0.35950447]),\n",
       "  'avg_score': 0.39747842537784833,\n",
       "  'feature_names': ('Hits', 'Walks', 'CRuns')},\n",
       " 2: {'feature_idx': (1, 7),\n",
       "  'cv_scores': array([0.51112039, 0.29291533, 0.33652783]),\n",
       "  'avg_score': 0.3801878512764718,\n",
       "  'feature_names': ('Hits', 'CRuns')},\n",
       " 1: {'feature_idx': (7,),\n",
       "  'cv_scores': array([0.37789651, 0.26362022, 0.22793593]),\n",
       "  'avg_score': 0.28981755426924316,\n",
       "  'feature_names': ('CRuns',)}}"
      ]
     },
     "execution_count": 236,
     "metadata": {},
     "output_type": "execute_result"
    }
   ],
   "source": [
    "sfs1.subsets_"
   ]
  },
  {
   "cell_type": "code",
   "execution_count": 237,
   "id": "a360dc84",
   "metadata": {},
   "outputs": [
    {
     "data": {
      "text/plain": [
       "(0.28981755426924316, (7,))"
      ]
     },
     "execution_count": 237,
     "metadata": {},
     "output_type": "execute_result"
    }
   ],
   "source": [
    "# best combination \n",
    "sfs1.k_score_, sfs1.k_feature_idx_"
   ]
  },
  {
   "cell_type": "code",
   "execution_count": 238,
   "id": "051b6b71",
   "metadata": {},
   "outputs": [
    {
     "data": {
      "text/plain": [
       "(<Figure size 432x288 with 1 Axes>,\n",
       " <AxesSubplot:xlabel='Number of Features', ylabel='Performance'>)"
      ]
     },
     "execution_count": 238,
     "metadata": {},
     "output_type": "execute_result"
    },
    {
     "data": {
      "image/png": "[encoded data removed]",
      "text/plain": [
       "<Figure size 432x288 with 1 Axes>"
      ]
     },
     "metadata": {
      "needs_background": "light"
     },
     "output_type": "display_data"
    }
   ],
   "source": [
    "from mlxtend.plotting import plot_sequential_feature_selection as plot_sfs\n",
    "\n",
    "plot_sfs(sfs1.get_metric_dict(), kind='std_err')"
   ]
  },
  {
   "cell_type": "code",
   "execution_count": null,
   "id": "47ea6231",
   "metadata": {},
   "outputs": [],
   "source": []
  }
 ],
 "metadata": {
  "kernelspec": {
   "display_name": "Python 3 (ipykernel)",
   "language": "python",
   "name": "python3"
  },
  "language_info": {
   "codemirror_mode": {
    "name": "ipython",
    "version": 3
   },
   "file_extension": ".py",
   "mimetype": "text/x-python",
   "name": "python",
   "nbconvert_exporter": "python",
   "pygments_lexer": "ipython3",
   "version": "3.9.7"
  },
  "toc": {
   "base_numbering": 1,
   "nav_menu": {},
   "number_sections": true,
   "sideBar": true,
   "skip_h1_title": false,
   "title_cell": "Table of Contents",
   "title_sidebar": "Contents",
   "toc_cell": false,
   "toc_position": {},
   "toc_section_display": true,
   "toc_window_display": true
  }
 },
 "nbformat": 4,
 "nbformat_minor": 5
}
